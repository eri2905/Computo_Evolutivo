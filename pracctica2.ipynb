{
 "cells": [
  {
   "cell_type": "code",
   "execution_count": 12,
   "metadata": {},
   "outputs": [
    {
     "name": "stdout",
     "output_type": "stream",
     "text": [
      "9\n"
     ]
    }
   ],
   "source": [
    "n, p = map(int, input().split())\n",
    "values = list(map(int, input().split()))\n",
    "print(max(values))"
   ]
  },
  {
   "cell_type": "code",
   "execution_count": null,
   "metadata": {},
   "outputs": [],
   "source": [
    "def find_highest_prize(n, p, values):\n",
    "    # Filter the prizes to only those which have a value <= p\n",
    "    eligible_prizes = [v for v in values if v <= p]\n",
    "    # Return the highest value from the eligible prizes\n",
    "    return max(eligible_prizes)\n",
    "\n",
    "# Sample input\n",
    "n, p = map(int, input().split())\n",
    "values = list(map(int, input().split()))\n",
    "\n",
    "# Output the result\n",
    "print(find_highest_prize(n, p, values))"
   ]
  },
  {
   "cell_type": "code",
   "execution_count": 13,
   "metadata": {},
   "outputs": [
    {
     "name": "stdout",
     "output_type": "stream",
     "text": [
      "9\n"
     ]
    }
   ],
   "source": [
    "def mayor_precio(n,p,values):\n",
    "    resultado = [v for v in values if v <= p]\n",
    "    return(max(resultado))\n",
    "\n",
    "n, p = map(int, input().split())\n",
    "values = list(map(int, input().split()))\n",
    "\n",
    "\n",
    "print(mayor_precio(n, p, values)) "
   ]
  }
 ],
 "metadata": {
  "kernelspec": {
   "display_name": "Python 3",
   "language": "python",
   "name": "python3"
  },
  "language_info": {
   "codemirror_mode": {
    "name": "ipython",
    "version": 3
   },
   "file_extension": ".py",
   "mimetype": "text/x-python",
   "name": "python",
   "nbconvert_exporter": "python",
   "pygments_lexer": "ipython3",
   "version": "3.11.4"
  }
 },
 "nbformat": 4,
 "nbformat_minor": 2
}
